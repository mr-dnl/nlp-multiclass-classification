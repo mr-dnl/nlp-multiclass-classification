{
  "nbformat": 4,
  "nbformat_minor": 0,
  "metadata": {
    "kernelspec": {
      "display_name": "Python 3",
      "language": "python",
      "name": "python3"
    },
    "language_info": {
      "codemirror_mode": {
        "name": "ipython",
        "version": 3
      },
      "file_extension": ".py",
      "mimetype": "text/x-python",
      "name": "python",
      "nbconvert_exporter": "python",
      "pygments_lexer": "ipython3",
      "version": "3.7.6"
    },
    "colab": {
      "name": "poc-nlp-multiclass-classification.ipynb",
      "provenance": [],
      "collapsed_sections": [
        "WC484PrCNoj0",
        "KjBgNmrjbTM8"
      ]
    }
  },
  "cells": [
    {
      "cell_type": "markdown",
      "metadata": {
        "id": "K4n-Pt0p-qwh",
        "colab_type": "text"
      },
      "source": [
        "<h1 align=\"center\">POC - Automatic Classification Of Textual Occurrences</h1>\n",
        "<h3 align=\"center\">Daniel Santos Pereira | Data & B.I Analyst | Machine Learning Analyst | MCP</h3>"
      ]
    },
    {
      "cell_type": "code",
      "metadata": {
        "id": "r32GMQnXOEWc",
        "colab_type": "code",
        "outputId": "d72ea4ec-5e76-4933-c977-371c483526d5",
        "colab": {
          "base_uri": "https://localhost:8080/",
          "height": 68
        }
      },
      "source": [
        "# Setup\n",
        "!pip install -q wordcloud\n",
        "import wordcloud\n",
        "\n",
        "import nltk\n",
        "nltk.download('stopwords')"
      ],
      "execution_count": 1,
      "outputs": [
        {
          "output_type": "stream",
          "text": [
            "[nltk_data] Downloading package stopwords to /root/nltk_data...\n",
            "[nltk_data]   Package stopwords is already up-to-date!\n"
          ],
          "name": "stdout"
        },
        {
          "output_type": "execute_result",
          "data": {
            "text/plain": [
              "True"
            ]
          },
          "metadata": {
            "tags": []
          },
          "execution_count": 1
        }
      ]
    },
    {
      "cell_type": "code",
      "metadata": {
        "id": "nHBku991-qwi",
        "colab_type": "code",
        "colab": {
          "base_uri": "https://localhost:8080/",
          "height": 51
        },
        "outputId": "ec83e7a4-15e8-40e4-899f-4ec721f26171"
      },
      "source": [
        "# libraries\n",
        "import pandas as pd\n",
        "import numpy as np\n",
        "import re\n",
        "\n",
        "from nltk.corpus import stopwords\n",
        "from unicodedata import normalize\n",
        "\n",
        "from sklearn.pipeline import Pipeline\n",
        "from sklearn.feature_extraction.text import CountVectorizer\n",
        "from sklearn.model_selection import train_test_split\n",
        "from sklearn.naive_bayes import MultinomialNB\n",
        "from sklearn.metrics import confusion_matrix,classification_report\n",
        "from sklearn.feature_extraction.text import  TfidfTransformer\n",
        "\n",
        "import matplotlib.pyplot as plt\n",
        "import seaborn as sns\n",
        "sns.set_style('white')\n",
        "%matplotlib inline\n",
        "\n",
        "# \"error\", \"ignore\", \"always\", \"default\", \"module\" or \"once\"\n",
        "import warnings\n",
        "warnings.filterwarnings('ignore', category=DeprecationWarning)"
      ],
      "execution_count": 2,
      "outputs": [
        {
          "output_type": "stream",
          "text": [
            "/usr/local/lib/python3.6/dist-packages/statsmodels/tools/_testing.py:19: FutureWarning: pandas.util.testing is deprecated. Use the functions in the public API at pandas.testing instead.\n",
            "  import pandas.util.testing as tm\n"
          ],
          "name": "stderr"
        }
      ]
    },
    {
      "cell_type": "markdown",
      "metadata": {
        "id": "SsMTluji_8on",
        "colab_type": "text"
      },
      "source": [
        "Informations:\n",
        "\n",
        "1.   The data for training, are occurrences of customers who were attended by the support team between the years 2018 and 2019\n",
        "2.   The test data, are occurrences of customers who were attended by the support team in the year 2020"
      ]
    },
    {
      "cell_type": "code",
      "metadata": {
        "id": "MQ6j-Q5X-qwm",
        "colab_type": "code",
        "colab": {}
      },
      "source": [
        "# Import training data with data between 2018 and 2019\n",
        "df_training = pd.read_csv('sample_data/data_train.csv',\n",
        "                          sep=';',\n",
        "                          encoding='latin-1')\n",
        "\n",
        "# Import for testing. These data are from the year 2020\n",
        "df_test = pd.read_csv('sample_data/data_test.csv',\n",
        "                      sep=';',\n",
        "                      encoding='latin-1')"
      ],
      "execution_count": 0,
      "outputs": []
    },
    {
      "cell_type": "code",
      "metadata": {
        "id": "R7tGbf79-qwp",
        "colab_type": "code",
        "colab": {}
      },
      "source": [
        "# rename columns\n",
        "columnsName = ['OccurrenceNumber','Occurrence','Date','IdProcess','Process','IdSolicitation','Solicitation']\n",
        "df_training.columns=columnsName"
      ],
      "execution_count": 0,
      "outputs": []
    },
    {
      "cell_type": "code",
      "metadata": {
        "id": "vsE35QPq-qws",
        "colab_type": "code",
        "outputId": "a98137db-1c7d-4e1a-a5ba-1e44fe0cc672",
        "colab": {
          "base_uri": "https://localhost:8080/",
          "height": 34
        }
      },
      "source": [
        "# show structure from dataframe\n",
        "df_training.shape"
      ],
      "execution_count": 5,
      "outputs": [
        {
          "output_type": "execute_result",
          "data": {
            "text/plain": [
              "(123080, 7)"
            ]
          },
          "metadata": {
            "tags": []
          },
          "execution_count": 5
        }
      ]
    },
    {
      "cell_type": "code",
      "metadata": {
        "id": "otsWoodO-qww",
        "colab_type": "code",
        "outputId": "72d2072f-aa60-492c-ce27-384b9ae4e784",
        "colab": {
          "base_uri": "https://localhost:8080/",
          "height": 34
        }
      },
      "source": [
        "# Checking the dataframe index\n",
        "df_training.index"
      ],
      "execution_count": 6,
      "outputs": [
        {
          "output_type": "execute_result",
          "data": {
            "text/plain": [
              "RangeIndex(start=0, stop=123080, step=1)"
            ]
          },
          "metadata": {
            "tags": []
          },
          "execution_count": 6
        }
      ]
    },
    {
      "cell_type": "code",
      "metadata": {
        "id": "a6n6r46--qwz",
        "colab_type": "code",
        "outputId": "3eb1f24b-cb27-4477-c885-3b10a724d9ba",
        "colab": {
          "base_uri": "https://localhost:8080/",
          "height": 153
        }
      },
      "source": [
        "# Checking the data types\n",
        "df_training.dtypes"
      ],
      "execution_count": 7,
      "outputs": [
        {
          "output_type": "execute_result",
          "data": {
            "text/plain": [
              "OccurrenceNumber    object\n",
              "Occurrence          object\n",
              "Date                object\n",
              "IdProcess            int64\n",
              "Process             object\n",
              "IdSolicitation       int64\n",
              "Solicitation        object\n",
              "dtype: object"
            ]
          },
          "metadata": {
            "tags": []
          },
          "execution_count": 7
        }
      ]
    },
    {
      "cell_type": "code",
      "metadata": {
        "id": "cOhbX-nO-qw2",
        "colab_type": "code",
        "outputId": "39acce80-158e-4d7b-f875-1d9873cee1db",
        "colab": {
          "base_uri": "https://localhost:8080/",
          "height": 255
        }
      },
      "source": [
        "# Checking the dataframe info\n",
        "df_training.info()"
      ],
      "execution_count": 8,
      "outputs": [
        {
          "output_type": "stream",
          "text": [
            "<class 'pandas.core.frame.DataFrame'>\n",
            "RangeIndex: 123080 entries, 0 to 123079\n",
            "Data columns (total 7 columns):\n",
            " #   Column            Non-Null Count   Dtype \n",
            "---  ------            --------------   ----- \n",
            " 0   OccurrenceNumber  123080 non-null  object\n",
            " 1   Occurrence        123080 non-null  object\n",
            " 2   Date              123080 non-null  object\n",
            " 3   IdProcess         123080 non-null  int64 \n",
            " 4   Process           123080 non-null  object\n",
            " 5   IdSolicitation    123080 non-null  int64 \n",
            " 6   Solicitation      123080 non-null  object\n",
            "dtypes: int64(2), object(5)\n",
            "memory usage: 6.6+ MB\n"
          ],
          "name": "stdout"
        }
      ]
    },
    {
      "cell_type": "code",
      "metadata": {
        "id": "CruqqG-0-qw6",
        "colab_type": "code",
        "outputId": "2fc5dbdc-6d20-41a2-dbd4-7b4b1d7473d9",
        "colab": {
          "base_uri": "https://localhost:8080/",
          "height": 153
        }
      },
      "source": [
        "# Checking null values\n",
        "df_training.isna().sum()"
      ],
      "execution_count": 9,
      "outputs": [
        {
          "output_type": "execute_result",
          "data": {
            "text/plain": [
              "OccurrenceNumber    0\n",
              "Occurrence          0\n",
              "Date                0\n",
              "IdProcess           0\n",
              "Process             0\n",
              "IdSolicitation      0\n",
              "Solicitation        0\n",
              "dtype: int64"
            ]
          },
          "metadata": {
            "tags": []
          },
          "execution_count": 9
        }
      ]
    },
    {
      "cell_type": "code",
      "metadata": {
        "id": "Mxts9tjo-qw-",
        "colab_type": "code",
        "outputId": "d45bbcea-933d-4a96-ea09-759ab069f65d",
        "colab": {
          "base_uri": "https://localhost:8080/",
          "height": 111
        }
      },
      "source": [
        "# Checking the dataframe structure \n",
        "df_training.head(2)"
      ],
      "execution_count": 10,
      "outputs": [
        {
          "output_type": "execute_result",
          "data": {
            "text/html": [
              "<div>\n",
              "<style scoped>\n",
              "    .dataframe tbody tr th:only-of-type {\n",
              "        vertical-align: middle;\n",
              "    }\n",
              "\n",
              "    .dataframe tbody tr th {\n",
              "        vertical-align: top;\n",
              "    }\n",
              "\n",
              "    .dataframe thead th {\n",
              "        text-align: right;\n",
              "    }\n",
              "</style>\n",
              "<table border=\"1\" class=\"dataframe\">\n",
              "  <thead>\n",
              "    <tr style=\"text-align: right;\">\n",
              "      <th></th>\n",
              "      <th>OccurrenceNumber</th>\n",
              "      <th>Occurrence</th>\n",
              "      <th>Date</th>\n",
              "      <th>IdProcess</th>\n",
              "      <th>Process</th>\n",
              "      <th>IdSolicitation</th>\n",
              "      <th>Solicitation</th>\n",
              "    </tr>\n",
              "  </thead>\n",
              "  <tbody>\n",
              "    <tr>\n",
              "      <th>0</th>\n",
              "      <td>00851624</td>\n",
              "      <td>Boa tarde!!Cliente solicita exclusão da cobert...</td>\n",
              "      <td>2018-05-29</td>\n",
              "      <td>2</td>\n",
              "      <td>ALTERAÇÕES</td>\n",
              "      <td>34</td>\n",
              "      <td>ALTERAÇÃO DE COBERTURA - INCLUSÃO/EXCLUSÃO DE ...</td>\n",
              "    </tr>\n",
              "    <tr>\n",
              "      <th>1</th>\n",
              "      <td>01259398</td>\n",
              "      <td>Cliente solicita a cópia de proposta de adesão...</td>\n",
              "      <td>2018-09-24</td>\n",
              "      <td>3</td>\n",
              "      <td>SOLICITAÇÃO DE SERVIÇOS</td>\n",
              "      <td>41</td>\n",
              "      <td>2ª VIA DA PROPOSTA DE ADESÃO</td>\n",
              "    </tr>\n",
              "  </tbody>\n",
              "</table>\n",
              "</div>"
            ],
            "text/plain": [
              "  OccurrenceNumber  ...                                       Solicitation\n",
              "0         00851624  ...  ALTERAÇÃO DE COBERTURA - INCLUSÃO/EXCLUSÃO DE ...\n",
              "1         01259398  ...                       2ª VIA DA PROPOSTA DE ADESÃO\n",
              "\n",
              "[2 rows x 7 columns]"
            ]
          },
          "metadata": {
            "tags": []
          },
          "execution_count": 10
        }
      ]
    },
    {
      "cell_type": "code",
      "metadata": {
        "id": "C4Jw7Mh_-qxA",
        "colab_type": "code",
        "colab": {}
      },
      "source": [
        "# Create of a new column to add the total character of each occurrence\n",
        "df_training['CharacterQtd'] = df_training['Occurrence'].apply(len)"
      ],
      "execution_count": 0,
      "outputs": []
    },
    {
      "cell_type": "code",
      "metadata": {
        "id": "v7LbJ16l-qxC",
        "colab_type": "code",
        "outputId": "ca80c1c6-9887-46d2-dabf-2c88223121b1",
        "colab": {
          "base_uri": "https://localhost:8080/",
          "height": 51
        }
      },
      "source": [
        "# Checks the maximum character values\n",
        "df_training[['CharacterQtd']].max()"
      ],
      "execution_count": 12,
      "outputs": [
        {
          "output_type": "execute_result",
          "data": {
            "text/plain": [
              "CharacterQtd    2298\n",
              "dtype: int64"
            ]
          },
          "metadata": {
            "tags": []
          },
          "execution_count": 12
        }
      ]
    },
    {
      "cell_type": "code",
      "metadata": {
        "id": "Rq8rE_Ay-qxG",
        "colab_type": "code",
        "outputId": "c6422b04-676d-453b-f22f-82027bbe37be",
        "colab": {
          "base_uri": "https://localhost:8080/",
          "height": 85
        }
      },
      "source": [
        "# Show data\n",
        "df_training[df_training['CharacterQtd'] == 2298][['OccurrenceNumber','Process','Solicitation']].iloc[0]"
      ],
      "execution_count": 13,
      "outputs": [
        {
          "output_type": "execute_result",
          "data": {
            "text/plain": [
              "OccurrenceNumber          02205000\n",
              "Process                   COBRANÇA\n",
              "Solicitation        MULTIPLICIDADE\n",
              "Name: 54255, dtype: object"
            ]
          },
          "metadata": {
            "tags": []
          },
          "execution_count": 13
        }
      ]
    },
    {
      "cell_type": "markdown",
      "metadata": {
        "id": "rVk1GWJa-qxe",
        "colab_type": "text"
      },
      "source": [
        "### Graph Showing The Quantity Of Character Per Process"
      ]
    },
    {
      "cell_type": "code",
      "metadata": {
        "id": "CzfMkXNT-qxO",
        "colab_type": "code",
        "colab": {}
      },
      "source": [
        "# Data per Process\n",
        "df_process = df_training[['Process','CharacterQtd']].drop_duplicates().groupby(\n",
        "    ['Process','CharacterQtd']).head()\n",
        "\n",
        "# Dataframe organization \n",
        "df_process = df_process.groupby(['Process']).sum().sort_values(\n",
        "    by='CharacterQtd'\n",
        "    ,ascending=False).reset_index()"
      ],
      "execution_count": 0,
      "outputs": []
    },
    {
      "cell_type": "code",
      "metadata": {
        "id": "wZ4Kn7V5-qxe",
        "colab_type": "code",
        "outputId": "9fe0d505-3375-42fe-c6d3-fcec090f4e0c",
        "colab": {
          "base_uri": "https://localhost:8080/",
          "height": 355
        }
      },
      "source": [
        "plt.figure(figsize=(14, 5))\n",
        "sns.set(style=\"whitegrid\")\n",
        "ax_process = sns.barplot(x=\"CharacterQtd\",\n",
        "                 y=\"Process\",\n",
        "                 data=df_process)\n",
        "ax_process.set_title('Process Per Character Quantity');"
      ],
      "execution_count": 17,
      "outputs": [
        {
          "output_type": "display_data",
          "data": {
            "image/png": "[encoded data removed]",
            "text/plain": [
              "<Figure size 1008x360 with 1 Axes>"
            ]
          },
          "metadata": {
            "tags": []
          }
        }
      ]
    },
    {
      "cell_type": "markdown",
      "metadata": {
        "id": "mKCddt4b-qxg",
        "colab_type": "text"
      },
      "source": [
        "### Handling Text"
      ]
    },
    {
      "cell_type": "code",
      "metadata": {
        "id": "PiZQiEpe-qxh",
        "colab_type": "code",
        "colab": {}
      },
      "source": [
        "# Function to perform data cleaning\n",
        "def func_HandlingText(txt):\n",
        "    \n",
        "    listWords = ['boa','tarde','bom','dia','noite','cliente','apólice','é',\n",
        "                     'pra','att','solicita','favor','yahoo','mail','br']\n",
        "    \n",
        "    txt = normalize('NFKD',\n",
        "                    txt.lower()).encode('ASCII','ignore').decode('ASCII')\n",
        "    \n",
        "    # Remove accentuation from words\n",
        "    handling_text = re.sub(r'[^\\w\\*]',' ',str(txt))\n",
        "    \n",
        "    # Remove numbers\n",
        "    handling_text = list([num for num in handling_text\n",
        "                          if not str.isnumeric(num)])\n",
        "    \n",
        "    # Join to re-form the string\n",
        "    handling_text = ''.join(handling_text)\n",
        "    \n",
        "    # Remove multiple spaces\n",
        "    handling_text = re.sub(r'\\s+', ' ', str(handling_text), flags=re.I)\n",
        "    \n",
        "    # Remove all unique characters\n",
        "    handling_text = re.sub(r'\\s+[a-zA-Z]\\s+',' ',str(handling_text))\n",
        "    \n",
        "    # Remove unique characters from the beginning\n",
        "    handling_text = re.sub(r'\\^[a-zA-Z]\\s+', ' ', str(handling_text))\n",
        "    \n",
        "    # Remove other unnecessary words \n",
        "    handling_text = [lst for lst in handling_text.split()\n",
        "                     if lst not in listWords]\n",
        "    # Remove as stopwords\n",
        "    handling_text = [palavra for palavra in handling_text\n",
        "                     if palavra not in stopwords.words('portuguese')]\n",
        "    \n",
        "    return handling_text"
      ],
      "execution_count": 0,
      "outputs": []
    },
    {
      "cell_type": "code",
      "metadata": {
        "id": "UDri6ClY-qxl",
        "colab_type": "code",
        "colab": {}
      },
      "source": [
        "# Creates word column with data already processed\n",
        "df_training['Words'] = df_training['Occurrence'].apply(func_HandlingText)"
      ],
      "execution_count": 0,
      "outputs": []
    },
    {
      "cell_type": "code",
      "metadata": {
        "id": "CGuPSQri-qxn",
        "colab_type": "code",
        "outputId": "bd27348f-bd9e-4b2a-da47-fef890f72eb3",
        "colab": {
          "base_uri": "https://localhost:8080/",
          "height": 68
        }
      },
      "source": [
        "# Checks returns\n",
        "df_training['Words'].head(2)"
      ],
      "execution_count": 19,
      "outputs": [
        {
          "output_type": "execute_result",
          "data": {
            "text/plain": [
              "0    [exclusao, cobertura, conjuge, informar, novo,...\n",
              "1                    [copia, proposta, adesao, mpaulo]\n",
              "Name: Words, dtype: object"
            ]
          },
          "metadata": {
            "tags": []
          },
          "execution_count": 19
        }
      ]
    },
    {
      "cell_type": "markdown",
      "metadata": {
        "id": "WC484PrCNoj0",
        "colab_type": "text"
      },
      "source": [
        "### Process text\n",
        "Creating a pipeline with the following steps: CountVectorizer (), TfidfTransformer (), MultinomialNB ()"
      ]
    },
    {
      "cell_type": "code",
      "metadata": {
        "id": "MaJYbjTg-qxq",
        "colab_type": "code",
        "colab": {}
      },
      "source": [
        "pipeline = Pipeline([\n",
        "                     ('cv', CountVectorizer(analyzer=func_HandlingText,\n",
        "                           max_df=.6,\n",
        "                           min_df=5,)),  # strings to token integer counts\n",
        "                     ('tfidf', TfidfTransformer()),   # integer counts to weighted TF-IDF scores\n",
        "                     ('classifier', MultinomialNB()) # train on TF-IDF vectors w/ Naive Bayes classifier\n",
        "                     ])"
      ],
      "execution_count": 0,
      "outputs": []
    },
    {
      "cell_type": "markdown",
      "metadata": {
        "id": "SBjnqubVOjv-",
        "colab_type": "text"
      },
      "source": [
        "Division of training and test data"
      ]
    },
    {
      "cell_type": "code",
      "metadata": {
        "id": "NA3VUyJl-qxs",
        "colab_type": "code",
        "colab": {}
      },
      "source": [
        "# Division of training and test data\n",
        "X = df_training['Occurrence']\n",
        "y = df_training['IdProcess']\n",
        "\n",
        "X_train, X_test, y_train, y_test = train_test_split(X, y, test_size=0.3, random_state=101)"
      ],
      "execution_count": 0,
      "outputs": []
    },
    {
      "cell_type": "code",
      "metadata": {
        "id": "iArxpm6Z-qxu",
        "colab_type": "code",
        "outputId": "ad7d3391-61f6-44e0-8885-706835067e46",
        "colab": {
          "base_uri": "https://localhost:8080/",
          "height": 306
        }
      },
      "source": [
        "pipeline.fit(X_train,y_train)"
      ],
      "execution_count": 22,
      "outputs": [
        {
          "output_type": "execute_result",
          "data": {
            "text/plain": [
              "Pipeline(memory=None,\n",
              "         steps=[('cv',\n",
              "                 CountVectorizer(analyzer=<function func_HandlingText at 0x7fb385952c80>,\n",
              "                                 binary=False, decode_error='strict',\n",
              "                                 dtype=<class 'numpy.int64'>, encoding='utf-8',\n",
              "                                 input='content', lowercase=True, max_df=0.6,\n",
              "                                 max_features=None, min_df=5,\n",
              "                                 ngram_range=(1, 1), preprocessor=None,\n",
              "                                 stop_words=None, strip_accents=None,\n",
              "                                 token_pattern='(?u)\\\\b\\\\w\\\\w+\\\\b',\n",
              "                                 tokenizer=None, vocabulary=None)),\n",
              "                ('tfidf',\n",
              "                 TfidfTransformer(norm='l2', smooth_idf=True,\n",
              "                                  sublinear_tf=False, use_idf=True)),\n",
              "                ('classifier',\n",
              "                 MultinomialNB(alpha=1.0, class_prior=None, fit_prior=True))],\n",
              "         verbose=False)"
            ]
          },
          "metadata": {
            "tags": []
          },
          "execution_count": 22
        }
      ]
    },
    {
      "cell_type": "markdown",
      "metadata": {
        "id": "KjBgNmrjbTM8",
        "colab_type": "text"
      },
      "source": [
        "### Evaluation"
      ]
    },
    {
      "cell_type": "code",
      "metadata": {
        "id": "cnDjSDXtbG3P",
        "colab_type": "code",
        "colab": {}
      },
      "source": [
        "# Predictions arrays\n",
        "predictions = pipeline.predict(X_test);"
      ],
      "execution_count": 0,
      "outputs": []
    },
    {
      "cell_type": "code",
      "metadata": {
        "id": "bv_j2uYcvGrd",
        "colab_type": "code",
        "outputId": "d6375122-0d83-45b9-ae28-00bffb3864b9",
        "colab": {
          "base_uri": "https://localhost:8080/",
          "height": 102
        }
      },
      "source": [
        "# Checking Confusion Matrix\n",
        "print(confusion_matrix(y_test,predictions))"
      ],
      "execution_count": 24,
      "outputs": [
        {
          "output_type": "stream",
          "text": [
            "[[ 5814   336   316     0   969]\n",
            " [  494 10426    93     0   220]\n",
            " [  481   379  8352     0    90]\n",
            " [   38     9     3     0     1]\n",
            " [  519   170    75     0  8139]]\n"
          ],
          "name": "stdout"
        }
      ]
    },
    {
      "cell_type": "code",
      "metadata": {
        "id": "CeBWmL6_bG82",
        "colab_type": "code",
        "outputId": "6ba8273c-5868-453d-be9b-526ef7aec3c8",
        "colab": {
          "base_uri": "https://localhost:8080/",
          "height": 275
        }
      },
      "source": [
        "# Checking Classifications\n",
        "print(classification_report(y_test,predictions))"
      ],
      "execution_count": 25,
      "outputs": [
        {
          "output_type": "stream",
          "text": [
            "              precision    recall  f1-score   support\n",
            "\n",
            "           1       0.79      0.78      0.79      7435\n",
            "           2       0.92      0.93      0.92     11233\n",
            "           3       0.94      0.90      0.92      9302\n",
            "           4       0.00      0.00      0.00        51\n",
            "           5       0.86      0.91      0.89      8903\n",
            "\n",
            "    accuracy                           0.89     36924\n",
            "   macro avg       0.70      0.70      0.70     36924\n",
            "weighted avg       0.89      0.89      0.89     36924\n",
            "\n"
          ],
          "name": "stdout"
        },
        {
          "output_type": "stream",
          "text": [
            "/usr/local/lib/python3.6/dist-packages/sklearn/metrics/_classification.py:1272: UndefinedMetricWarning: Precision and F-score are ill-defined and being set to 0.0 in labels with no predicted samples. Use `zero_division` parameter to control this behavior.\n",
            "  _warn_prf(average, modifier, msg_start, len(result))\n"
          ],
          "name": "stderr"
        }
      ]
    },
    {
      "cell_type": "markdown",
      "metadata": {
        "id": "WJ46DLqEDfqa",
        "colab_type": "text"
      },
      "source": [
        "### Prediction with Data Test"
      ]
    },
    {
      "cell_type": "code",
      "metadata": {
        "id": "2oio1SWhbHIK",
        "colab_type": "code",
        "colab": {}
      },
      "source": [
        "# Rename columns\n",
        "df_test.columns=columnsName\n",
        "\n",
        "# Remove columns\n",
        "df_test.drop(columns=['Date', 'IdSolicitation', 'Solicitation'], inplace=True)"
      ],
      "execution_count": 0,
      "outputs": []
    },
    {
      "cell_type": "code",
      "metadata": {
        "id": "iYz3XvOLbHNO",
        "colab_type": "code",
        "colab": {}
      },
      "source": [
        "# Performing the Analysis on All Occurrence Descriptions\n",
        "x_prediction = pipeline.predict(df_test['Occurrence'])"
      ],
      "execution_count": 0,
      "outputs": []
    },
    {
      "cell_type": "code",
      "metadata": {
        "id": "X3vjiwo0MoqL",
        "colab_type": "code",
        "colab": {}
      },
      "source": [
        "# Column creation with the prediction result\n",
        "df_test = df_test.join(pd.DataFrame(x_prediction))\n",
        "\n",
        "# Rename Column\n",
        "df_test.rename(columns={0: 'PredictionResult'}, inplace=True)\n",
        "\n",
        "# Drop Column Occurrence\n",
        "df_test.drop('Occurrence', axis=1, inplace=True)"
      ],
      "execution_count": 0,
      "outputs": []
    },
    {
      "cell_type": "markdown",
      "metadata": {
        "id": "MECWHnC9KKql",
        "colab_type": "text"
      },
      "source": [
        "### Results Validations"
      ]
    },
    {
      "cell_type": "code",
      "metadata": {
        "id": "3r9cTwhAbHRK",
        "colab_type": "code",
        "colab": {}
      },
      "source": [
        "# Add the \"equal\" column to compare the prediction result with the value of the IdProcess column\n",
        "df_test['Equals'] = np.where((df_test['IdProcess'] == df_test['PredictionResult']) , 1, 0)"
      ],
      "execution_count": 0,
      "outputs": []
    },
    {
      "cell_type": "code",
      "metadata": {
        "id": "RoaCkkqXKaqV",
        "colab_type": "code",
        "colab": {}
      },
      "source": [
        "# Return total rows\n",
        "total_rows = df_test.shape[0]\n",
        "df_test['Total'] = 1\n",
        "\n",
        "# Sums aggregated values\n",
        "agreg = df_test.groupby(['Process']).agg(sum)\n",
        "\n",
        "# Checking hit percentage\n",
        "agreg[\"Hit\"] = round((agreg['Equals'] * 100) / agreg['Total'],2)\n",
        "\n",
        "# Checking Percentage of error\n",
        "value_error = agreg['Total'] - agreg['Equals']\n",
        "agreg['Error'] = round((value_error * 100) / agreg['Total'],2)\n",
        "\n",
        "# Dataframe organization\n",
        "agreg['Process'] = agreg.index"
      ],
      "execution_count": 0,
      "outputs": []
    },
    {
      "cell_type": "code",
      "metadata": {
        "id": "IBdE95biZ_gJ",
        "colab_type": "code",
        "outputId": "effee821-8e83-468e-9cb9-58e7ade94a81",
        "colab": {
          "base_uri": "https://localhost:8080/",
          "height": 355
        }
      },
      "source": [
        "# Initialize the matplotlib figure\n",
        "f, ax = plt.subplots(figsize=(14, 5))\n",
        "\n",
        "# Plot the agreg to correct answers\n",
        "sns.set_color_codes(\"pastel\")\n",
        "sns.barplot(x=\"Hit\", y=\"Process\", data=agreg,\n",
        "            label=\"Correct %\", color=\"b\")\n",
        "\n",
        "# Plot the agreg to wrong answers\n",
        "sns.set_color_codes(\"muted\")\n",
        "sns.barplot(x=\"Error\", y=\"Process\", data=agreg,\n",
        "            label=\"Error %\", color=\"b\")\n",
        "\n",
        "# Add a legend and informative axis label\n",
        "ax.legend(ncol=2, loc=\"lower right\", frameon=True)\n",
        "ax.set(xlim=(0, 100), ylabel=\"\",\n",
        "       xlabel=\"Hit vs Error\")\n",
        "sns.despine(left=True, bottom=True)\n",
        "ax.set_title('Percentage values between correct answers and wrong answers');"
      ],
      "execution_count": 31,
      "outputs": [
        {
          "output_type": "display_data",
          "data": {
            "image/png": "[encoded data removed]",
            "text/plain": [
              "<Figure size 1008x360 with 1 Axes>"
            ]
          },
          "metadata": {
            "tags": []
          }
        }
      ]
    },
    {
      "cell_type": "code",
      "metadata": {
        "id": "SwuwoMFG4qrV",
        "colab_type": "code",
        "colab": {}
      },
      "source": [
        ""
      ],
      "execution_count": 0,
      "outputs": []
    }
  ]
}